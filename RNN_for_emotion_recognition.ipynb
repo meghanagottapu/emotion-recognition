{
  "cells": [
    {
      "cell_type": "markdown",
      "metadata": {
        "id": "_upXCeHwwp9Q"
      },
      "source": [
        "1. https://github.com/foukonana/multi_emotions\n",
        "\n",
        "2. https://github.com/maelfabien/Multimodal-Emotion-Recognition/tree/master/02-Text \n"
      ]
    },
    {
      "cell_type": "markdown",
      "metadata": {
        "id": "IPjNzVndw08l"
      },
      "source": [
        "### method 1"
      ]
    },
    {
      "cell_type": "code",
      "execution_count": null,
      "metadata": {
        "id": "h_JKhUn4wnJi"
      },
      "outputs": [],
      "source": [
        "import pandas as pd \n",
        "import numpy as np \n",
        "import matplotlib.pyplot as plt \n",
        "import seaborn as sns\n",
        "import pathlib \n",
        "from wordcloud import WordCloud\n",
        "\n",
        "import nltk\n",
        "from nltk.corpus import stopwords\n",
        "from nltk.tokenize import word_tokenize \n",
        "from nltk.stem import PorterStemmer \n",
        "import re \n",
        "from sklearn.model_selection import train_test_split\n",
        "from sklearn.feature_extraction.text import TfidfVectorizer"
      ]
    },
    {
      "cell_type": "code",
      "execution_count": null,
      "metadata": {
        "id": "mSPzEynn4Dmi"
      },
      "outputs": [],
      "source": [
        "dataset='train.tsv'\n",
        "df = pd.read_csv(dataset, sep='\\t', header=None, names=['comment', 'label', 'id'])\n",
        "df['label'] = df['label'].str.split(',')"
      ]
    },
    {
      "cell_type": "code",
      "execution_count": null,
      "metadata": {
        "id": "cPHhKfjQ483T"
      },
      "outputs": [],
      "source": [
        "emotion_list = ['admiration', 'amusement', 'anger', 'annoyance', 'approval', 'caring', 'confusion', 'curiosity', 'desire', 'disappointment',                     \n",
        "                'disapproval', 'disgust', 'embarrassment', 'excitement', 'fear', 'gratitude', 'grief', 'joy', 'love', 'nervousness', 'optimism',                 \n",
        "                'pride', 'realization', 'relief', 'remorse', 'sadness', 'surprise', 'neutral']\n",
        "\n",
        "enkman_mapping = {\n",
        "        \"anger\": [\"anger\", \"annoyance\", \"disapproval\"],\n",
        "        \"disgust\": [\"disgust\"],\n",
        "        \"fear\": [\"fear\", \"nervousness\"],\n",
        "        \"joy\": [\"joy\", \"amusement\", \"approval\", \"excitement\", \"gratitude\",  \"love\", \"optimism\", \"relief\", \"pride\", \"admiration\", \"desire\", \"caring\"],\n",
        "        \"sadness\": [\"sadness\", \"disappointment\", \"embarrassment\", \"grief\",  \"remorse\"],\n",
        "        \"surprise\": [\"surprise\", \"realization\", \"confusion\", \"curiosity\"],\n",
        "        \"neutral\": [\"neutral\"],\n",
        "        }\n",
        "enkman_mapping_rev = {v:key for key, value in enkman_mapping.items() for v in value}"
      ]
    },
    {
      "cell_type": "code",
      "execution_count": null,
      "metadata": {
        "id": "dpMowQYB486d"
      },
      "outputs": [],
      "source": [
        "# function from Google Research analysis \n",
        "def idx2class(idx_list):\n",
        "    arr = []\n",
        "    for i in idx_list:\n",
        "        arr.append(emotion_list[int(i)])\n",
        "    return arr"
      ]
    },
    {
      "cell_type": "code",
      "execution_count": null,
      "metadata": {
        "id": "lEHSzK6z489C"
      },
      "outputs": [],
      "source": [
        "# add emotion label to the label ids\n",
        "df['emotions'] = df['label'].apply(idx2class)\n",
        "\n",
        "# use enkman mapping to reduce the emotions to a list of ['anger', 'disgust', 'fear', 'joy', 'sadness', 'surprise', 'neutral']\n",
        "df['mapped_emotions'] = df['emotions'].apply(lambda x: [enkman_mapping_rev[i] for i in x])\n",
        "\n",
        "# fix issues where ['joy',' joy'] might appear\n",
        "df.loc[df['mapped_emotions'].apply(len)>1, 'mapped_emotions'] = df.loc[df['mapped_emotions'].apply(len)>1, 'mapped_emotions'].apply(lambda x: [emotion for emotion in set(x)])"
      ]
    },
    {
      "cell_type": "code",
      "execution_count": null,
      "metadata": {
        "colab": {
          "base_uri": "https://localhost:8080/"
        },
        "id": "e-fRIJRm49Ag",
        "outputId": "04871b79-6721-44a1-832a-e1fccb53a552"
      },
      "outputs": [
        {
          "output_type": "execute_result",
          "data": {
            "text/html": [
              "<div>\n",
              "<style scoped>\n",
              "    .dataframe tbody tr th:only-of-type {\n",
              "        vertical-align: middle;\n",
              "    }\n",
              "\n",
              "    .dataframe tbody tr th {\n",
              "        vertical-align: top;\n",
              "    }\n",
              "\n",
              "    .dataframe thead th {\n",
              "        text-align: right;\n",
              "    }\n",
              "</style>\n",
              "<table border=\"1\" class=\"dataframe\">\n",
              "  <thead>\n",
              "    <tr style=\"text-align: right;\">\n",
              "      <th></th>\n",
              "      <th>comment</th>\n",
              "      <th>label</th>\n",
              "      <th>id</th>\n",
              "      <th>emotions</th>\n",
              "      <th>mapped_emotions</th>\n",
              "    </tr>\n",
              "  </thead>\n",
              "  <tbody>\n",
              "    <tr>\n",
              "      <th>0</th>\n",
              "      <td>My favourite food is anything I didn't have to...</td>\n",
              "      <td>[27]</td>\n",
              "      <td>eebbqej</td>\n",
              "      <td>[neutral]</td>\n",
              "      <td>[neutral]</td>\n",
              "    </tr>\n",
              "    <tr>\n",
              "      <th>1</th>\n",
              "      <td>Now if he does off himself, everyone will thin...</td>\n",
              "      <td>[27]</td>\n",
              "      <td>ed00q6i</td>\n",
              "      <td>[neutral]</td>\n",
              "      <td>[neutral]</td>\n",
              "    </tr>\n",
              "    <tr>\n",
              "      <th>2</th>\n",
              "      <td>WHY THE FUCK IS BAYLESS ISOING</td>\n",
              "      <td>[2]</td>\n",
              "      <td>eezlygj</td>\n",
              "      <td>[anger]</td>\n",
              "      <td>[anger]</td>\n",
              "    </tr>\n",
              "    <tr>\n",
              "      <th>3</th>\n",
              "      <td>To make her feel threatened</td>\n",
              "      <td>[14]</td>\n",
              "      <td>ed7ypvh</td>\n",
              "      <td>[fear]</td>\n",
              "      <td>[fear]</td>\n",
              "    </tr>\n",
              "    <tr>\n",
              "      <th>4</th>\n",
              "      <td>Dirty Southern Wankers</td>\n",
              "      <td>[3]</td>\n",
              "      <td>ed0bdzj</td>\n",
              "      <td>[annoyance]</td>\n",
              "      <td>[anger]</td>\n",
              "    </tr>\n",
              "    <tr>\n",
              "      <th>...</th>\n",
              "      <td>...</td>\n",
              "      <td>...</td>\n",
              "      <td>...</td>\n",
              "      <td>...</td>\n",
              "      <td>...</td>\n",
              "    </tr>\n",
              "    <tr>\n",
              "      <th>43405</th>\n",
              "      <td>Added you mate well I’ve just got the bow and ...</td>\n",
              "      <td>[18]</td>\n",
              "      <td>edsb738</td>\n",
              "      <td>[love]</td>\n",
              "      <td>[joy]</td>\n",
              "    </tr>\n",
              "    <tr>\n",
              "      <th>43406</th>\n",
              "      <td>Always thought that was funny but is it a refe...</td>\n",
              "      <td>[6]</td>\n",
              "      <td>ee7fdou</td>\n",
              "      <td>[confusion]</td>\n",
              "      <td>[surprise]</td>\n",
              "    </tr>\n",
              "    <tr>\n",
              "      <th>43407</th>\n",
              "      <td>What are you talking about? Anything bad that ...</td>\n",
              "      <td>[3]</td>\n",
              "      <td>efgbhks</td>\n",
              "      <td>[annoyance]</td>\n",
              "      <td>[anger]</td>\n",
              "    </tr>\n",
              "    <tr>\n",
              "      <th>43408</th>\n",
              "      <td>More like a baptism, with sexy results!</td>\n",
              "      <td>[13]</td>\n",
              "      <td>ed1naf8</td>\n",
              "      <td>[excitement]</td>\n",
              "      <td>[joy]</td>\n",
              "    </tr>\n",
              "    <tr>\n",
              "      <th>43409</th>\n",
              "      <td>Enjoy the ride!</td>\n",
              "      <td>[17]</td>\n",
              "      <td>eecwmbq</td>\n",
              "      <td>[joy]</td>\n",
              "      <td>[joy]</td>\n",
              "    </tr>\n",
              "  </tbody>\n",
              "</table>\n",
              "<p>43410 rows × 5 columns</p>\n",
              "</div>"
            ],
            "text/plain": [
              "                                                 comment  ... mapped_emotions\n",
              "0      My favourite food is anything I didn't have to...  ...       [neutral]\n",
              "1      Now if he does off himself, everyone will thin...  ...       [neutral]\n",
              "2                         WHY THE FUCK IS BAYLESS ISOING  ...         [anger]\n",
              "3                            To make her feel threatened  ...          [fear]\n",
              "4                                 Dirty Southern Wankers  ...         [anger]\n",
              "...                                                  ...  ...             ...\n",
              "43405  Added you mate well I’ve just got the bow and ...  ...           [joy]\n",
              "43406  Always thought that was funny but is it a refe...  ...      [surprise]\n",
              "43407  What are you talking about? Anything bad that ...  ...         [anger]\n",
              "43408            More like a baptism, with sexy results!  ...           [joy]\n",
              "43409                                    Enjoy the ride!  ...           [joy]\n",
              "\n",
              "[43410 rows x 5 columns]"
            ]
          },
          "metadata": {},
          "execution_count": 6
        }
      ],
      "source": [
        "df"
      ]
    },
    {
      "cell_type": "code",
      "execution_count": null,
      "metadata": {
        "colab": {
          "base_uri": "https://localhost:8080/"
        },
        "id": "xGDPLKXe5ZhG",
        "outputId": "2f2111c4-e8a5-4d16-e7ad-a5ff12d07293"
      },
      "outputs": [
        {
          "output_type": "stream",
          "name": "stdout",
          "text": [
            "   actual_count  percentage\n",
            "1         36308       83.64\n",
            "2          6541       15.07\n",
            "3           532        1.23\n",
            "4            28        0.06\n",
            "5             1        0.00\n"
          ]
        },
        {
          "output_type": "execute_result",
          "data": {
            "text/plain": [
              "Text(0.5, 1.0, 'Count of labels')"
            ]
          },
          "metadata": {},
          "execution_count": 7
        },
        {
          "output_type": "display_data",
          "data": {
            "image/png": "[encoded data removed]",
            "text/plain": [
              "<Figure size 360x360 with 1 Axes>"
            ]
          },
          "metadata": {}
        }
      ],
      "source": [
        "stats_df = pd.DataFrame(data = {\n",
        "    'actual_count': df['emotions'].apply(len).value_counts(),\n",
        "    'percentage': round(df['emotions'].apply(len).value_counts()/df.shape[0]*100, 2)\n",
        "})\n",
        "\n",
        "print(stats_df)\n",
        "\n",
        "plt.figure(figsize=(5,5))\n",
        "plt.pie(x=stats_df['actual_count'], \n",
        "        autopct='%.2f%%', \n",
        "        explode=[0.04]*stats_df.shape[0], \n",
        "        labels=stats_df.index)\n",
        "plt.title('Count of labels')"
      ]
    },
    {
      "cell_type": "code",
      "execution_count": null,
      "metadata": {
        "colab": {
          "base_uri": "https://localhost:8080/"
        },
        "id": "SF0MBBLW5Zjy",
        "outputId": "bd514d7c-f5b6-4219-e6fa-ccbb33078da0"
      },
      "outputs": [
        {
          "output_type": "execute_result",
          "data": {
            "text/plain": [
              "['joy']                15216\n",
              "['neutral']            12823\n",
              "['anger']               4293\n",
              "['surprise']            3858\n",
              "['sadness']             2326\n",
              "['joy', 'surprise']      775\n",
              "['neutral', 'joy']       593\n",
              "['fear']                 541\n",
              "['disgust']              498\n",
              "['anger', 'joy']         352\n",
              "Name: mapped_emotions, dtype: int64"
            ]
          },
          "metadata": {},
          "execution_count": 8
        }
      ],
      "source": [
        "df['mapped_emotions'].astype(str).value_counts()[:10]"
      ]
    },
    {
      "cell_type": "code",
      "execution_count": null,
      "metadata": {
        "colab": {
          "base_uri": "https://localhost:8080/"
        },
        "id": "oTq0s_HN5Zm4",
        "outputId": "9a11c7b5-2351-4f28-8d23-10f2a1661675"
      },
      "outputs": [
        {
          "output_type": "error",
          "ename": "NameError",
          "evalue": "ignored",
          "traceback": [
            "\u001b[0;31m---------------------------------------------------------------------------\u001b[0m",
            "\u001b[0;31mNameError\u001b[0m                                 Traceback (most recent call last)",
            "\u001b[0;32m<ipython-input-1-b3eadf8a5056>\u001b[0m in \u001b[0;36m<module>\u001b[0;34m()\u001b[0m\n\u001b[1;32m      3\u001b[0m \u001b[0;34m\u001b[0m\u001b[0m\n\u001b[1;32m      4\u001b[0m \u001b[0;34m\u001b[0m\u001b[0m\n\u001b[0;32m----> 5\u001b[0;31m \u001b[0mplt\u001b[0m\u001b[0;34m.\u001b[0m\u001b[0mfigure\u001b[0m\u001b[0;34m(\u001b[0m\u001b[0mfigsize\u001b[0m\u001b[0;34m=\u001b[0m\u001b[0;34m(\u001b[0m\u001b[0;36m16\u001b[0m\u001b[0;34m,\u001b[0m \u001b[0;36m12\u001b[0m\u001b[0;34m)\u001b[0m\u001b[0;34m)\u001b[0m\u001b[0;34m\u001b[0m\u001b[0;34m\u001b[0m\u001b[0m\n\u001b[0m\u001b[1;32m      6\u001b[0m \u001b[0;32mfor\u001b[0m \u001b[0mi\u001b[0m\u001b[0;34m,\u001b[0m \u001b[0mmulti_emotion\u001b[0m \u001b[0;32min\u001b[0m \u001b[0menumerate\u001b[0m\u001b[0;34m(\u001b[0m\u001b[0memotion_list\u001b[0m\u001b[0;34m)\u001b[0m\u001b[0;34m:\u001b[0m\u001b[0;34m\u001b[0m\u001b[0;34m\u001b[0m\u001b[0m\n\u001b[1;32m      7\u001b[0m     \u001b[0mtxt\u001b[0m \u001b[0;34m=\u001b[0m \u001b[0mdf\u001b[0m\u001b[0;34m.\u001b[0m\u001b[0mloc\u001b[0m\u001b[0;34m[\u001b[0m\u001b[0mdf\u001b[0m\u001b[0;34m[\u001b[0m\u001b[0;34m'mapped_emotions'\u001b[0m\u001b[0;34m]\u001b[0m\u001b[0;34m.\u001b[0m\u001b[0mastype\u001b[0m\u001b[0;34m(\u001b[0m\u001b[0mstr\u001b[0m\u001b[0;34m)\u001b[0m\u001b[0;34m==\u001b[0m\u001b[0mmulti_emotion\u001b[0m\u001b[0;34m,\u001b[0m \u001b[0;34m'comment'\u001b[0m\u001b[0;34m]\u001b[0m\u001b[0;34m\u001b[0m\u001b[0;34m\u001b[0m\u001b[0m\n",
            "\u001b[0;31mNameError\u001b[0m: name 'plt' is not defined"
          ]
        }
      ],
      "source": [
        "emotion_list = [\"['joy']\", \"['neutral']\", \"['anger']\", \"['surprise']\", \"['sadness']\", \n",
        "                \"['surprise', 'joy']\", \"['neutral', 'joy']\", \"['fear']\", \"['disgust']\"]\n",
        "\n",
        "\n",
        "plt.figure(figsize=(16, 12))\n",
        "for i, multi_emotion in enumerate(emotion_list):\n",
        "    txt = df.loc[df['mapped_emotions'].astype(str)==multi_emotion, 'comment']\n",
        "\n",
        "    plt.subplot(3,3,i+1)\n",
        "    if len(txt)==0:\n",
        "      wordcloud=WordCloud().generate(\"empty string\")\n",
        "    else:\n",
        "      wordcloud = WordCloud().generate(' '.join(txt))\n",
        "\n",
        "    # Display the generated image:\n",
        "    plt.imshow(wordcloud, interpolation='bilinear')\n",
        "    plt.title(multi_emotion)\n",
        "    plt.axis(\"off\")\n",
        "plt.tight_layout()\n",
        "plt.show()"
      ]
    },
    {
      "cell_type": "markdown",
      "metadata": {
        "id": "D3A4SzpI6uN_"
      },
      "source": [
        "------"
      ]
    },
    {
      "cell_type": "code",
      "execution_count": null,
      "metadata": {
        "colab": {
          "base_uri": "https://localhost:8080/"
        },
        "id": "6R2H9Njc67_b",
        "outputId": "1dde13e8-d02d-4981-a74b-eae41e42ce9b"
      },
      "outputs": [
        {
          "output_type": "stream",
          "name": "stdout",
          "text": [
            "[nltk_data] Downloading package stopwords to /root/nltk_data...\n",
            "[nltk_data]   Package stopwords is already up-to-date!\n"
          ]
        },
        {
          "output_type": "execute_result",
          "data": {
            "text/plain": [
              "True"
            ]
          },
          "metadata": {},
          "execution_count": 10
        }
      ],
      "source": [
        "nltk.download('stopwords')"
      ]
    },
    {
      "cell_type": "code",
      "execution_count": null,
      "metadata": {
        "id": "K4bIbgPS5Zph"
      },
      "outputs": [],
      "source": [
        "stemmer = PorterStemmer()\n",
        "stopword_list = stopwords.words('english')\n",
        "def process_reddit_comment(strng):\n",
        "    # remove [NAME] placeholder\n",
        "    processed_strng = re.sub('\\[name]', '', strng)\n",
        "    # remove reddit symbol \n",
        "    processed_strng = re.sub('/r', '', processed_strng)\n",
        "    return processed_strng\n",
        "def punct_remover(strng):\n",
        "    # punctuation marks to be completely removed\n",
        "    clean_strng = re.sub(r'[?|!|\\'|\"|#]', r'', strng)\n",
        "    # punctuation marks to be replaced with space\n",
        "    clean_strng = re.sub(r'[.|,|)|(|\\|/]', r' ', clean_strng)\n",
        "    # replace multi-space with single space \n",
        "    clean_strng = re.sub(r' +', r' ', clean_strng)\n",
        "    return clean_strng\n",
        "def tokenize_stem_no_stopwords(strng):\n",
        "    return [stemmer.stem(w) for w in word_tokenize(strng) if w not in stopword_list]"
      ]
    },
    {
      "cell_type": "code",
      "execution_count": null,
      "metadata": {
        "colab": {
          "base_uri": "https://localhost:8080/"
        },
        "id": "sqBKpmwc7HaD",
        "outputId": "ca1b5139-befe-4564-d9c0-59f98269631f"
      },
      "outputs": [
        {
          "output_type": "stream",
          "name": "stdout",
          "text": [
            "[nltk_data] Downloading package punkt to /root/nltk_data...\n",
            "[nltk_data]   Package punkt is already up-to-date!\n"
          ]
        },
        {
          "output_type": "execute_result",
          "data": {
            "text/plain": [
              "True"
            ]
          },
          "metadata": {},
          "execution_count": 12
        }
      ],
      "source": [
        "nltk.download('punkt')"
      ]
    },
    {
      "cell_type": "code",
      "execution_count": null,
      "metadata": {
        "id": "YbI-qrMi5Zs2"
      },
      "outputs": [],
      "source": [
        "# lowercase and remove punctuation \n",
        "df['processed_comment'] = df['comment'].str.lower()\n",
        "df['processed_comment'] = df['processed_comment'].apply(process_reddit_comment)\n",
        "df['processed_comment'] = df['processed_comment'].apply(punct_remover)\n",
        "df['processed_comment'] = df['processed_comment'].apply(tokenize_stem_no_stopwords)"
      ]
    },
    {
      "cell_type": "code",
      "execution_count": null,
      "metadata": {
        "id": "HI1ew-MW7E97"
      },
      "outputs": [],
      "source": [
        "N = df.shape[0]\n",
        "for emotion in enkman_mapping.keys():\n",
        "    df[emotion] = np.zeros((N,1), dtype=int)\n",
        "\n",
        "for emotion in enkman_mapping.keys():\n",
        "    df[emotion] = df['mapped_emotions'].apply(lambda x: 1 if emotion in x else 0)"
      ]
    },
    {
      "cell_type": "code",
      "execution_count": null,
      "metadata": {
        "id": "fZyNBxLi7FAw"
      },
      "outputs": [],
      "source": [
        "X_train, X_test = train_test_split(df, random_state=156, test_size=0.25, shuffle=True)"
      ]
    },
    {
      "cell_type": "code",
      "execution_count": null,
      "metadata": {
        "id": "VLFDHvyO7FDc"
      },
      "outputs": [],
      "source": [
        "tfidf=TfidfVectorizer()\n",
        "\n",
        "x_train = tfidf.fit_transform(X_train['processed_comment'].apply(lambda x: ' '.join(x)))\n",
        "x_test = tfidf.transform(X_test['processed_comment'].apply(lambda x: ' '.join(x)))"
      ]
    },
    {
      "cell_type": "markdown",
      "metadata": {
        "id": "M_oXdfKJ7S-G"
      },
      "source": [
        "modelling"
      ]
    },
    {
      "cell_type": "code",
      "execution_count": null,
      "metadata": {
        "colab": {
          "base_uri": "https://localhost:8080/"
        },
        "id": "_KvfzOzb7plu",
        "outputId": "13fd0b22-c77e-427f-ba16-c64ed6a3ee98"
      },
      "outputs": [
        {
          "output_type": "stream",
          "name": "stdout",
          "text": [
            "Requirement already satisfied: scikit-multilearn in /usr/local/lib/python3.7/dist-packages (0.2.0)\n"
          ]
        }
      ],
      "source": [
        "pip install scikit-multilearn"
      ]
    },
    {
      "cell_type": "code",
      "execution_count": null,
      "metadata": {
        "id": "f_oDXU377FG9"
      },
      "outputs": [],
      "source": [
        "from sklearn.linear_model import LogisticRegression\n",
        "from sklearn.pipeline import Pipeline\n",
        "from sklearn.metrics import accuracy_score, hamming_loss, label_ranking_loss\n",
        "from sklearn.multiclass import OneVsRestClassifier\n",
        "from skmultilearn.problem_transform import BinaryRelevance, ClassifierChain, LabelPowerset\n",
        "from skmultilearn.ensemble import RakelD, RakelO\n",
        "from sklearn.naive_bayes import GaussianNB"
      ]
    },
    {
      "cell_type": "code",
      "execution_count": null,
      "metadata": {
        "colab": {
          "base_uri": "https://localhost:8080/"
        },
        "id": "c2NQb95q7UMA",
        "outputId": "9cc064d0-00ab-46ba-8936-b3aae735612a"
      },
      "outputs": [
        {
          "output_type": "stream",
          "name": "stdout",
          "text": [
            "OneVsRest classification for the emotion of anger\n",
            "Accuracy on anger is 88.12% \n",
            "\n",
            "OneVsRest classification for the emotion of disgust\n",
            "Accuracy on disgust is 98.14% \n",
            "\n",
            "OneVsRest classification for the emotion of fear\n",
            "Accuracy on fear is 98.28% \n",
            "\n",
            "OneVsRest classification for the emotion of joy\n",
            "Accuracy on joy is 82.11% \n",
            "\n",
            "OneVsRest classification for the emotion of sadness\n",
            "Accuracy on sadness is 93.57% \n",
            "\n",
            "OneVsRest classification for the emotion of surprise\n",
            "Accuracy on surprise is 88.30% \n",
            "\n",
            "OneVsRest classification for the emotion of neutral\n",
            "Accuracy on neutral is 72.28% \n",
            "\n"
          ]
        }
      ],
      "source": [
        "for emotion in enkman_mapping.keys():\n",
        "    print(f'OneVsRest classification for the emotion of {emotion}')\n",
        "    clf = OneVsRestClassifier(LogisticRegression(solver='sag'), n_jobs=-1)\n",
        "    clf.fit(x_train, X_train[emotion])\n",
        "    y_pred = clf.predict(x_test)\n",
        "    print(f'Accuracy on {emotion} is {accuracy_score(X_test[emotion], y_pred)*100:.2f}% \\n')"
      ]
    },
    {
      "cell_type": "markdown",
      "metadata": {
        "id": "gKuKxPk78a2d"
      },
      "source": [
        "Problem transformation methods\n",
        "- binary revelance\n",
        "- classifierChain\n",
        "- laber powerset"
      ]
    },
    {
      "cell_type": "code",
      "execution_count": null,
      "metadata": {
        "id": "RSsWNX5-7UjW"
      },
      "outputs": [],
      "source": [
        "from skmultilearn.problem_transform import BinaryRelevance\n",
        "\n",
        "clf = BinaryRelevance(GaussianNB())\n",
        "clf.fit(x_train, X_train[enkman_mapping.keys()])\n",
        "y_pred = clf.predict(x_test)\n",
        "\n",
        "print(f'Accuracy score is {accuracy_score(X_test[enkman_mapping.keys()], y_pred)*100:.2f}% \\n')\n",
        "print(f'Hamming loss is {hamming_loss(X_test[enkman_mapping.keys()], y_pred)*100:.2f}% \\n')"
      ]
    },
    {
      "cell_type": "code",
      "execution_count": null,
      "metadata": {
        "id": "2mDvUhkZ7UmA"
      },
      "outputs": [],
      "source": [
        "from skmultilearn.problem_transform import ClassifierChain\n",
        "\n",
        "clf = ClassifierChain(classifier=GaussianNB())\n",
        "clf.fit(x_train, X_train[enkman_mapping.keys()])\n",
        "y_pred = clf.predict(x_test)\n",
        "\n",
        "print(f'Accuracy score is {accuracy_score(X_test[enkman_mapping.keys()], y_pred)*100:.2f}% \\n')\n",
        "print(f'Hamming loss is {metrics.hamming_loss(X_test[enkman_mapping.keys()], y_pred)*100:.2f}% \\n')"
      ]
    },
    {
      "cell_type": "code",
      "execution_count": null,
      "metadata": {
        "id": "jdIKew9B7Uor"
      },
      "outputs": [],
      "source": [
        "from skmultilearn.problem_transform import  LabelPowerset\n",
        "\n",
        "clf = LabelPowerset(classifier=GaussianNB())\n",
        "clf.fit(x_train, X_train[enkman_mapping.keys()])\n",
        "y_pred = clf.predict(x_test)\n",
        "\n",
        "print(f'Accuracy score is {accuracy_score(X_test[enkman_mapping.keys()], y_pred)*100:.2f}% \\n')\n",
        "print(f'Hamming loss is {hamming_loss(X_test[enkman_mapping.keys()], y_pred)*100:.2f}% \\n')"
      ]
    },
    {
      "cell_type": "code",
      "execution_count": null,
      "metadata": {
        "id": "UhzM9M4h7UrQ"
      },
      "outputs": [],
      "source": [
        ""
      ]
    },
    {
      "cell_type": "code",
      "execution_count": null,
      "metadata": {
        "id": "FlNpkvbL7Uub"
      },
      "outputs": [],
      "source": [
        ""
      ]
    },
    {
      "cell_type": "markdown",
      "metadata": {
        "id": "3L8Jxe7aw2_l"
      },
      "source": [
        "### method 2"
      ]
    },
    {
      "cell_type": "code",
      "execution_count": null,
      "metadata": {
        "id": "2MIC1YuRw40u"
      },
      "outputs": [],
      "source": [
        ""
      ]
    }
  ],
  "metadata": {
    "colab": {
      "collapsed_sections": [],
      "name": "RNN for emotion recognition.ipynb",
      "provenance": []
    },
    "kernelspec": {
      "display_name": "Python 3",
      "name": "python3"
    },
    "language_info": {
      "name": "python"
    }
  },
  "nbformat": 4,
  "nbformat_minor": 0
}